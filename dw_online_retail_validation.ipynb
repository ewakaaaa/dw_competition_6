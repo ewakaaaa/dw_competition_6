{
 "cells": [
  {
   "cell_type": "markdown",
   "metadata": {},
   "source": [
    "# Konkurs | 6 edycja kursu \"Praktyczne uczenie maszynowe\" - Dlaczego tak ważna jest walidacja? \n",
    "\n",
    "\n",
    "### Cel:\n",
    "Prognozowanie wartości zwrotu dla danego zamówienia. \n",
    "\n",
    "### Na czym polega konkurs?\n",
    "Jest sklep online, który sprzedaje różne produkty dla ludzi z różnych krajów. Jedno zamówienie (faktura) może zawierać więcej niż jeden produkt. Trend, który jest dość popularny w szczególności w krajach zachodnich, to możliwość zwrotów i klienci chętnie z tego korzystają. Zwroty generują koszty i warto umieć przewidzieć to i jakoś z tym podziałać (pomijając skrajne przypadki takie jak \"nie sprzedawać\" klientowi X, bo to pewnie jest zakazane prawem). Natomiast pewnie dałoby się coś zrobić, jeśli wiedzielibyśmy, które zamówienia mogą być z dużym prawdopodobieństwem zwrócone.\n",
    "\n",
    "**To zadanie można podzielić na 2 części**: z jednej strony jest to klasyfikacja, ponieważ ostatecznie trzeba stwierdzić, **czy ten produkt będzie zwrócony czy nie**. Z drugiej strony (i to jest docelowe zadanie) przez to, że zamówienie może zawierać więcej niż jeden produkt, to **ostatecznie chcemy obliczyć sumaryczny koszt zwrotów**. Możesz założyć, że jeśli w danym złożonym i opłaconym zamówieniu jest zwrot nawet jednego produktu, to zwracana jest całość zamówienia (czyli wszystkie produkty zawarte w tym zamówieniu). **Suma cen tych produktów daje całkowitą wartość zwrotu, właśnie to będziemy przewidydwać**.\n",
    "\n",
    "### Metryką sukcesu\n",
    "będzie **mean squared error**.\n",
    "\n",
    "### Dane \n",
    "W danych jest **1 067 371** wierszy, które zostały podzielone prawie na równe części:\n",
    "- `train_online_retail` (520 142 wierszy)\n",
    "- `test_online_retail` (547 229 wierszy)\n",
    "\n",
    "### Walidacja \n",
    "- lokalna na zbiorze testowym \n",
    "- na 30% danych testowych czyli \"Public Leader Board\" na Kaggle \n",
    "- na 70% danych testowych czyli \"Private Leader Board\" \n",
    "- na całym zbiorze testowym "
   ]
  },
  {
   "cell_type": "markdown",
   "metadata": {},
   "source": [
    "### Wczytanie potrzebnych pakietów"
   ]
  },
  {
   "cell_type": "code",
   "execution_count": 1,
   "metadata": {},
   "outputs": [
    {
     "name": "stderr",
     "output_type": "stream",
     "text": [
      "Using TensorFlow backend.\n"
     ]
    }
   ],
   "source": [
    "import pandas as pd\n",
    "import numpy as np\n",
    "from sklearn.dummy import DummyClassifier, DummyRegressor\n",
    "from sklearn.metrics import mean_squared_error as mse\n",
    "import matplotlib.pyplot as plt\n",
    "%matplotlib inline\n",
    "from sklearn.model_selection import GroupKFold\n",
    "from sklearn import utils\n",
    "from scikitplot.estimators import plot_learning_curve, plot_feature_importances\n",
    "from sklearn.tree import DecisionTreeClassifier\n",
    "from sklearn.ensemble import RandomForestClassifier\n",
    "import xgboost as xgb\n",
    "from collections import defaultdict \n",
    "import eli5\n",
    "from eli5.sklearn import PermutationImportance\n",
    "import gc\n",
    "\n",
    "np.random.seed(0)"
   ]
  },
  {
   "cell_type": "markdown",
   "metadata": {},
   "source": [
    "### Dane"
   ]
  },
  {
   "cell_type": "code",
   "execution_count": 2,
   "metadata": {},
   "outputs": [],
   "source": [
    "test =  pd.read_hdf('../input/test_online_retail.h5')\n",
    "train = pd.read_hdf('../input/train_online_retail.h5')"
   ]
  },
  {
   "cell_type": "markdown",
   "metadata": {},
   "source": [
    "Opis:\n",
    "- `invoice` - nr. faktury\n",
    "- `stock_code` - produkt ID\n",
    "- `description` - opis produktu\n",
    "- `quantity` - liczba kupionych tych samych produktów w ramach jednej transakcji\n",
    "- `invoice_date` - data wystawienie faktury\n",
    "- `price_unit` - cena jednostkowa produktu za sztukę w funtach\n",
    "- `price_total` - cena razem `price_unit * quantity` \n",
    "- `customer_id` - klient ID\n",
    "- `country` - nazwa kraju, z którego klient kupował\n",
    "- `is_canceled` - czy faktura była anulowana\n",
    "- `is_test` - czy to zbiór testowy"
   ]
  },
  {
   "cell_type": "code",
   "execution_count": 3,
   "metadata": {},
   "outputs": [
    {
     "data": {
      "text/html": [
       "<div>\n",
       "<style scoped>\n",
       "    .dataframe tbody tr th:only-of-type {\n",
       "        vertical-align: middle;\n",
       "    }\n",
       "\n",
       "    .dataframe tbody tr th {\n",
       "        vertical-align: top;\n",
       "    }\n",
       "\n",
       "    .dataframe thead th {\n",
       "        text-align: right;\n",
       "    }\n",
       "</style>\n",
       "<table border=\"1\" class=\"dataframe\">\n",
       "  <thead>\n",
       "    <tr style=\"text-align: right;\">\n",
       "      <th></th>\n",
       "      <th>invoice</th>\n",
       "      <th>stock_code</th>\n",
       "      <th>description</th>\n",
       "      <th>quantity</th>\n",
       "      <th>invoice_date</th>\n",
       "      <th>price_unit</th>\n",
       "      <th>price_total</th>\n",
       "      <th>customer_id</th>\n",
       "      <th>country</th>\n",
       "      <th>is_canceled</th>\n",
       "      <th>is_test</th>\n",
       "    </tr>\n",
       "  </thead>\n",
       "  <tbody>\n",
       "    <tr>\n",
       "      <th>12</th>\n",
       "      <td>2</td>\n",
       "      <td>12</td>\n",
       "      <td>DOOR MAT BLACK FLOCK</td>\n",
       "      <td>10</td>\n",
       "      <td>2009-12-01 09:06:00</td>\n",
       "      <td>5.949219</td>\n",
       "      <td>59.500000</td>\n",
       "      <td>1</td>\n",
       "      <td>United Kingdom</td>\n",
       "      <td>False</td>\n",
       "      <td>False</td>\n",
       "    </tr>\n",
       "    <tr>\n",
       "      <th>13</th>\n",
       "      <td>2</td>\n",
       "      <td>13</td>\n",
       "      <td>LOVE BUILDING BLOCK WORD</td>\n",
       "      <td>18</td>\n",
       "      <td>2009-12-01 09:06:00</td>\n",
       "      <td>5.449219</td>\n",
       "      <td>98.099998</td>\n",
       "      <td>1</td>\n",
       "      <td>United Kingdom</td>\n",
       "      <td>False</td>\n",
       "      <td>False</td>\n",
       "    </tr>\n",
       "    <tr>\n",
       "      <th>14</th>\n",
       "      <td>2</td>\n",
       "      <td>14</td>\n",
       "      <td>HOME BUILDING BLOCK WORD</td>\n",
       "      <td>3</td>\n",
       "      <td>2009-12-01 09:06:00</td>\n",
       "      <td>5.949219</td>\n",
       "      <td>17.850000</td>\n",
       "      <td>1</td>\n",
       "      <td>United Kingdom</td>\n",
       "      <td>False</td>\n",
       "      <td>False</td>\n",
       "    </tr>\n",
       "    <tr>\n",
       "      <th>15</th>\n",
       "      <td>2</td>\n",
       "      <td>15</td>\n",
       "      <td>ASSORTED COLOUR BIRD ORNAMENT</td>\n",
       "      <td>16</td>\n",
       "      <td>2009-12-01 09:06:00</td>\n",
       "      <td>1.690430</td>\n",
       "      <td>27.040001</td>\n",
       "      <td>1</td>\n",
       "      <td>United Kingdom</td>\n",
       "      <td>False</td>\n",
       "      <td>False</td>\n",
       "    </tr>\n",
       "    <tr>\n",
       "      <th>16</th>\n",
       "      <td>2</td>\n",
       "      <td>16</td>\n",
       "      <td>PEACE WOODEN BLOCK LETTERS</td>\n",
       "      <td>3</td>\n",
       "      <td>2009-12-01 09:06:00</td>\n",
       "      <td>6.949219</td>\n",
       "      <td>20.850000</td>\n",
       "      <td>1</td>\n",
       "      <td>United Kingdom</td>\n",
       "      <td>False</td>\n",
       "      <td>False</td>\n",
       "    </tr>\n",
       "  </tbody>\n",
       "</table>\n",
       "</div>"
      ],
      "text/plain": [
       "    invoice  stock_code                    description  quantity  \\\n",
       "12        2          12          DOOR MAT BLACK FLOCK         10   \n",
       "13        2          13       LOVE BUILDING BLOCK WORD        18   \n",
       "14        2          14       HOME BUILDING BLOCK WORD         3   \n",
       "15        2          15  ASSORTED COLOUR BIRD ORNAMENT        16   \n",
       "16        2          16     PEACE WOODEN BLOCK LETTERS         3   \n",
       "\n",
       "          invoice_date  price_unit  price_total  customer_id         country  \\\n",
       "12 2009-12-01 09:06:00    5.949219    59.500000            1  United Kingdom   \n",
       "13 2009-12-01 09:06:00    5.449219    98.099998            1  United Kingdom   \n",
       "14 2009-12-01 09:06:00    5.949219    17.850000            1  United Kingdom   \n",
       "15 2009-12-01 09:06:00    1.690430    27.040001            1  United Kingdom   \n",
       "16 2009-12-01 09:06:00    6.949219    20.850000            1  United Kingdom   \n",
       "\n",
       "    is_canceled  is_test  \n",
       "12        False    False  \n",
       "13        False    False  \n",
       "14        False    False  \n",
       "15        False    False  \n",
       "16        False    False  "
      ]
     },
     "execution_count": 3,
     "metadata": {},
     "output_type": "execute_result"
    }
   ],
   "source": [
    "train.head()"
   ]
  },
  {
   "cell_type": "code",
   "execution_count": 3,
   "metadata": {},
   "outputs": [],
   "source": [
    "train['total_return'] = train['is_canceled'] * train['price_total']"
   ]
  },
  {
   "cell_type": "code",
   "execution_count": 4,
   "metadata": {},
   "outputs": [
    {
     "data": {
      "text/html": [
       "<div>\n",
       "<style scoped>\n",
       "    .dataframe tbody tr th:only-of-type {\n",
       "        vertical-align: middle;\n",
       "    }\n",
       "\n",
       "    .dataframe tbody tr th {\n",
       "        vertical-align: top;\n",
       "    }\n",
       "\n",
       "    .dataframe thead th {\n",
       "        text-align: right;\n",
       "    }\n",
       "</style>\n",
       "<table border=\"1\" class=\"dataframe\">\n",
       "  <thead>\n",
       "    <tr style=\"text-align: right;\">\n",
       "      <th></th>\n",
       "      <th>invoice</th>\n",
       "      <th>is_canceled</th>\n",
       "      <th>price_total</th>\n",
       "      <th>total_return</th>\n",
       "    </tr>\n",
       "  </thead>\n",
       "  <tbody>\n",
       "    <tr>\n",
       "      <th>0</th>\n",
       "      <td>2</td>\n",
       "      <td>False</td>\n",
       "      <td>630.330017</td>\n",
       "      <td>0.0</td>\n",
       "    </tr>\n",
       "    <tr>\n",
       "      <th>1</th>\n",
       "      <td>3</td>\n",
       "      <td>False</td>\n",
       "      <td>310.750000</td>\n",
       "      <td>0.0</td>\n",
       "    </tr>\n",
       "    <tr>\n",
       "      <th>2</th>\n",
       "      <td>4</td>\n",
       "      <td>False</td>\n",
       "      <td>2286.239990</td>\n",
       "      <td>0.0</td>\n",
       "    </tr>\n",
       "    <tr>\n",
       "      <th>3</th>\n",
       "      <td>5</td>\n",
       "      <td>False</td>\n",
       "      <td>426.299988</td>\n",
       "      <td>0.0</td>\n",
       "    </tr>\n",
       "    <tr>\n",
       "      <th>4</th>\n",
       "      <td>8</td>\n",
       "      <td>False</td>\n",
       "      <td>382.369995</td>\n",
       "      <td>0.0</td>\n",
       "    </tr>\n",
       "  </tbody>\n",
       "</table>\n",
       "</div>"
      ],
      "text/plain": [
       "   invoice  is_canceled  price_total  total_return\n",
       "0        2        False   630.330017           0.0\n",
       "1        3        False   310.750000           0.0\n",
       "2        4        False  2286.239990           0.0\n",
       "3        5        False   426.299988           0.0\n",
       "4        8        False   382.369995           0.0"
      ]
     },
     "execution_count": 4,
     "metadata": {},
     "output_type": "execute_result"
    }
   ],
   "source": [
    "orders = train.groupby('invoice')['is_canceled', 'price_total'].sum()\n",
    "orders['is_canceled'] = orders['is_canceled'] > 0\n",
    "orders['total_return'] = orders ['is_canceled'] * orders ['price_total']\n",
    "orders = orders.reset_index()\n",
    "orders.head()"
   ]
  },
  {
   "cell_type": "markdown",
   "metadata": {},
   "source": [
    "Do danych możemy podejć na dwa sposoby po pierwsze możemy pronozować zwrot pojedyńczego produktu i po dokonaniu obliczeń, pogrupować całkowity zwrot do numeru faktury. Lub najpier pogrupować do dane do pojedyńczej faktury a następnie pronozować czy dane faktura zostanie zwrócona czy też nie. Każdy z tych sposobów ma swoje wady i zalety. Pierwszy jest tudniejszy w walidacji - w końcowej fazie mamy otrzymać numer faktury i sume zwrotów wiec musimy przejśc z prognozą do faktur by móc policzyc MSE oraz musimy pamiętać by wiersze zbiorach testowym i walidacynym pogrupować po fakturze tak by nie było przypadku ze produkty z jednego zamówienia trafiają do zbiory treningowego i testowego. Drugie podejście jest prostrze w walidacji, jednak trudniej przekazać informację o produktach.\n",
    "\n",
    "W tym notebooku skupię się na pierwszym podejściu poniważ ma ciekawsze podjeście do walidacji, oraz ono osiągneło u mnie ostatecznie lepsze wyniki "
   ]
  },
  {
   "cell_type": "markdown",
   "metadata": {},
   "source": [
    "### Dummy model: "
   ]
  },
  {
   "cell_type": "code",
   "execution_count": 66,
   "metadata": {},
   "outputs": [],
   "source": [
    "#funkcja na wyrost przyda nam się to poźniej \n",
    "def get_feats(df):\n",
    "    feats = df.select_dtypes([np.number, np.bool]).columns\n",
    "    black_list = ['is_canceled', 'is_test', 'is_canceled_pred', 'total_return_proc', 'big_invoice','total_return', 'total_return_pred','y_pred','total_return_pred1','total_return_pred2' ]\n",
    "    return [x for x in feats if x not in black_list] "
   ]
  },
  {
   "cell_type": "code",
   "execution_count": 6,
   "metadata": {},
   "outputs": [],
   "source": [
    "def run_model ( train,test, model_cls, model_params):\n",
    "    feats = get_feats(train)  # w tym przypadku wszystko jedno jaka kolumna\n",
    "    X = train[feats].values\n",
    "    y = train['total_return'].values\n",
    "    model = model_cls(**model_params)\n",
    "    model.fit(X, y)\n",
    "    train['y_pred'] = model.predict(X)\n",
    "    \n",
    "    df = train.groupby('invoice').sum()\n",
    "    mse_lokalnie = mse(df.y_pred.values, df.total_return.values)\n",
    "    \n",
    "    print('mse lokalne:')\n",
    "    return mse_lokalnie "
   ]
  },
  {
   "cell_type": "code",
   "execution_count": 7,
   "metadata": {},
   "outputs": [
    {
     "name": "stdout",
     "output_type": "stream",
     "text": [
      "mse lokalne:\n"
     ]
    },
    {
     "data": {
      "text/plain": [
       "1499568.6"
      ]
     },
     "execution_count": 7,
     "metadata": {},
     "output_type": "execute_result"
    }
   ],
   "source": [
    "dummy1 = run_model(train,test,DummyRegressor,{'strategy':'mean'})\n",
    "dummy1"
   ]
  },
  {
   "cell_type": "code",
   "execution_count": 8,
   "metadata": {},
   "outputs": [],
   "source": [
    "#przepisane z tablicy na Kagglu \n",
    "kaggle_private= 108089.48672\n",
    "kaggle_public = 233990.04073\n",
    "\n",
    "def mse_kaggle_total(kaggle_private,kaggle_public): \n",
    "    return (kaggle_private*70 + kaggle_public*30 ) / 100"
   ]
  },
  {
   "cell_type": "markdown",
   "metadata": {},
   "source": [
    "Zapiszmy ten wynik przyda się nam to później:"
   ]
  },
  {
   "cell_type": "code",
   "execution_count": 9,
   "metadata": {},
   "outputs": [],
   "source": [
    "wyniki = [['DummyRegressor',dummy1, kaggle_private ,kaggle_public, mse_kaggle_total(kaggle_private,kaggle_public)]]"
   ]
  },
  {
   "cell_type": "markdown",
   "metadata": {},
   "source": [
    "Sprawdźmy nasz zbiór testowy pod kontem duplikatów lub pustych wartości: \n",
    "    "
   ]
  },
  {
   "cell_type": "code",
   "execution_count": 13,
   "metadata": {},
   "outputs": [
    {
     "data": {
      "text/html": [
       "<div>\n",
       "<style scoped>\n",
       "    .dataframe tbody tr th:only-of-type {\n",
       "        vertical-align: middle;\n",
       "    }\n",
       "\n",
       "    .dataframe tbody tr th {\n",
       "        vertical-align: top;\n",
       "    }\n",
       "\n",
       "    .dataframe thead th {\n",
       "        text-align: right;\n",
       "    }\n",
       "</style>\n",
       "<table border=\"1\" class=\"dataframe\">\n",
       "  <thead>\n",
       "    <tr style=\"text-align: right;\">\n",
       "      <th></th>\n",
       "      <th>invoice</th>\n",
       "      <th>stock_code</th>\n",
       "      <th>description</th>\n",
       "      <th>quantity</th>\n",
       "      <th>invoice_date</th>\n",
       "      <th>price_unit</th>\n",
       "      <th>price_total</th>\n",
       "      <th>customer_id</th>\n",
       "      <th>country</th>\n",
       "      <th>is_canceled</th>\n",
       "      <th>is_test</th>\n",
       "      <th>total_return</th>\n",
       "      <th>y_pred</th>\n",
       "    </tr>\n",
       "  </thead>\n",
       "  <tbody>\n",
       "    <tr>\n",
       "      <th>149</th>\n",
       "      <td>27745</td>\n",
       "      <td>4434</td>\n",
       "      <td>ALARM CLOCK BAKELIKE GREEN</td>\n",
       "      <td>4</td>\n",
       "      <td>2010-12-01 09:45:00</td>\n",
       "      <td>3.750000</td>\n",
       "      <td>15.00</td>\n",
       "      <td>880</td>\n",
       "      <td>United Kingdom</td>\n",
       "      <td>False</td>\n",
       "      <td>False</td>\n",
       "      <td>0.0</td>\n",
       "      <td>1.816563</td>\n",
       "    </tr>\n",
       "    <tr>\n",
       "      <th>17637</th>\n",
       "      <td>28538</td>\n",
       "      <td>1180</td>\n",
       "      <td>HOME SWEET HOME MUG</td>\n",
       "      <td>1</td>\n",
       "      <td>2010-12-08 12:35:00</td>\n",
       "      <td>1.250000</td>\n",
       "      <td>1.25</td>\n",
       "      <td>4377</td>\n",
       "      <td>United Kingdom</td>\n",
       "      <td>False</td>\n",
       "      <td>False</td>\n",
       "      <td>0.0</td>\n",
       "      <td>1.816563</td>\n",
       "    </tr>\n",
       "    <tr>\n",
       "      <th>228117</th>\n",
       "      <td>13226</td>\n",
       "      <td>3832</td>\n",
       "      <td>HANGING METAL HEART LANTERN</td>\n",
       "      <td>6</td>\n",
       "      <td>2010-06-08 13:22:00</td>\n",
       "      <td>1.650391</td>\n",
       "      <td>9.90</td>\n",
       "      <td>666</td>\n",
       "      <td>United Kingdom</td>\n",
       "      <td>False</td>\n",
       "      <td>False</td>\n",
       "      <td>0.0</td>\n",
       "      <td>1.816563</td>\n",
       "    </tr>\n",
       "    <tr>\n",
       "      <th>482268</th>\n",
       "      <td>51324</td>\n",
       "      <td>4363</td>\n",
       "      <td>HAND WARMER OWL DESIGN</td>\n",
       "      <td>1</td>\n",
       "      <td>2011-11-20 11:09:00</td>\n",
       "      <td>2.099609</td>\n",
       "      <td>2.10</td>\n",
       "      <td>4267</td>\n",
       "      <td>United Kingdom</td>\n",
       "      <td>False</td>\n",
       "      <td>False</td>\n",
       "      <td>0.0</td>\n",
       "      <td>1.816563</td>\n",
       "    </tr>\n",
       "    <tr>\n",
       "      <th>781</th>\n",
       "      <td>27784</td>\n",
       "      <td>162</td>\n",
       "      <td>BLACK SWEETHEART BRACELET</td>\n",
       "      <td>2</td>\n",
       "      <td>2010-12-01 12:23:00</td>\n",
       "      <td>4.250000</td>\n",
       "      <td>8.50</td>\n",
       "      <td>3137</td>\n",
       "      <td>United Kingdom</td>\n",
       "      <td>False</td>\n",
       "      <td>False</td>\n",
       "      <td>0.0</td>\n",
       "      <td>1.816563</td>\n",
       "    </tr>\n",
       "  </tbody>\n",
       "</table>\n",
       "</div>"
      ],
      "text/plain": [
       "        invoice  stock_code                  description  quantity  \\\n",
       "149       27745        4434   ALARM CLOCK BAKELIKE GREEN         4   \n",
       "17637     28538        1180          HOME SWEET HOME MUG         1   \n",
       "228117    13226        3832  HANGING METAL HEART LANTERN         6   \n",
       "482268    51324        4363       HAND WARMER OWL DESIGN         1   \n",
       "781       27784         162    BLACK SWEETHEART BRACELET         2   \n",
       "\n",
       "              invoice_date  price_unit  price_total  customer_id  \\\n",
       "149    2010-12-01 09:45:00    3.750000        15.00          880   \n",
       "17637  2010-12-08 12:35:00    1.250000         1.25         4377   \n",
       "228117 2010-06-08 13:22:00    1.650391         9.90          666   \n",
       "482268 2011-11-20 11:09:00    2.099609         2.10         4267   \n",
       "781    2010-12-01 12:23:00    4.250000         8.50         3137   \n",
       "\n",
       "               country  is_canceled  is_test  total_return    y_pred  \n",
       "149     United Kingdom        False    False           0.0  1.816563  \n",
       "17637   United Kingdom        False    False           0.0  1.816563  \n",
       "228117  United Kingdom        False    False           0.0  1.816563  \n",
       "482268  United Kingdom        False    False           0.0  1.816563  \n",
       "781     United Kingdom        False    False           0.0  1.816563  "
      ]
     },
     "execution_count": 13,
     "metadata": {},
     "output_type": "execute_result"
    }
   ],
   "source": [
    "train[train.duplicated() == True].sample ( 5 )"
   ]
  },
  {
   "cell_type": "markdown",
   "metadata": {},
   "source": [
    "Jest tego sporo bo az 15691 wierszy - ja uznałam to za błąd w zbiorze danych i postanowiłam je usunąć "
   ]
  },
  {
   "cell_type": "code",
   "execution_count": 11,
   "metadata": {},
   "outputs": [],
   "source": [
    "train = train.drop_duplicates() #usuniecie duplikatów "
   ]
  },
  {
   "cell_type": "code",
   "execution_count": 10,
   "metadata": {},
   "outputs": [],
   "source": [
    "train = train.fillna(-1)"
   ]
  },
  {
   "cell_type": "markdown",
   "metadata": {},
   "source": [
    "Obserwację odstające: "
   ]
  },
  {
   "cell_type": "code",
   "execution_count": 111,
   "metadata": {},
   "outputs": [
    {
     "data": {
      "text/html": [
       "<div>\n",
       "<style scoped>\n",
       "    .dataframe tbody tr th:only-of-type {\n",
       "        vertical-align: middle;\n",
       "    }\n",
       "\n",
       "    .dataframe tbody tr th {\n",
       "        vertical-align: top;\n",
       "    }\n",
       "\n",
       "    .dataframe thead th {\n",
       "        text-align: right;\n",
       "    }\n",
       "</style>\n",
       "<table border=\"1\" class=\"dataframe\">\n",
       "  <thead>\n",
       "    <tr style=\"text-align: right;\">\n",
       "      <th></th>\n",
       "      <th>invoice</th>\n",
       "      <th>stock_code</th>\n",
       "      <th>quantity</th>\n",
       "      <th>price_unit</th>\n",
       "      <th>price_total</th>\n",
       "      <th>customer_id</th>\n",
       "      <th>total_return</th>\n",
       "      <th>y_pred</th>\n",
       "    </tr>\n",
       "  </thead>\n",
       "  <tbody>\n",
       "    <tr>\n",
       "      <th>count</th>\n",
       "      <td>504451.000000</td>\n",
       "      <td>504451.000000</td>\n",
       "      <td>504451.000000</td>\n",
       "      <td>504451.000000</td>\n",
       "      <td>504451.000000</td>\n",
       "      <td>504451.000000</td>\n",
       "      <td>504451.000000</td>\n",
       "      <td>504451.000000</td>\n",
       "    </tr>\n",
       "    <tr>\n",
       "      <th>mean</th>\n",
       "      <td>28132.371148</td>\n",
       "      <td>2094.309877</td>\n",
       "      <td>12.336435</td>\n",
       "      <td>NaN</td>\n",
       "      <td>21.941849</td>\n",
       "      <td>1498.887755</td>\n",
       "      <td>1.804682</td>\n",
       "      <td>1.813338</td>\n",
       "    </tr>\n",
       "    <tr>\n",
       "      <th>std</th>\n",
       "      <td>15785.569675</td>\n",
       "      <td>1764.789184</td>\n",
       "      <td>207.850433</td>\n",
       "      <td>NaN</td>\n",
       "      <td>386.183929</td>\n",
       "      <td>1659.756246</td>\n",
       "      <td>277.436707</td>\n",
       "      <td>0.003233</td>\n",
       "    </tr>\n",
       "    <tr>\n",
       "      <th>min</th>\n",
       "      <td>2.000000</td>\n",
       "      <td>0.000000</td>\n",
       "      <td>1.000000</td>\n",
       "      <td>0.000000</td>\n",
       "      <td>0.000000</td>\n",
       "      <td>-1.000000</td>\n",
       "      <td>0.000000</td>\n",
       "      <td>1.816563</td>\n",
       "    </tr>\n",
       "    <tr>\n",
       "      <th>25%</th>\n",
       "      <td>14646.000000</td>\n",
       "      <td>437.000000</td>\n",
       "      <td>1.000000</td>\n",
       "      <td>1.250000</td>\n",
       "      <td>3.900000</td>\n",
       "      <td>49.000000</td>\n",
       "      <td>0.000000</td>\n",
       "      <td>1.816563</td>\n",
       "    </tr>\n",
       "    <tr>\n",
       "      <th>50%</th>\n",
       "      <td>28582.000000</td>\n",
       "      <td>1443.000000</td>\n",
       "      <td>4.000000</td>\n",
       "      <td>2.099609</td>\n",
       "      <td>10.040000</td>\n",
       "      <td>820.000000</td>\n",
       "      <td>0.000000</td>\n",
       "      <td>1.816563</td>\n",
       "    </tr>\n",
       "    <tr>\n",
       "      <th>75%</th>\n",
       "      <td>42199.000000</td>\n",
       "      <td>4009.000000</td>\n",
       "      <td>12.000000</td>\n",
       "      <td>4.128906</td>\n",
       "      <td>17.700001</td>\n",
       "      <td>2553.000000</td>\n",
       "      <td>0.000000</td>\n",
       "      <td>1.816563</td>\n",
       "    </tr>\n",
       "    <tr>\n",
       "      <th>max</th>\n",
       "      <td>53627.000000</td>\n",
       "      <td>5304.000000</td>\n",
       "      <td>80995.000000</td>\n",
       "      <td>53600.000000</td>\n",
       "      <td>168469.593750</td>\n",
       "      <td>5940.000000</td>\n",
       "      <td>168469.593750</td>\n",
       "      <td>1.816563</td>\n",
       "    </tr>\n",
       "  </tbody>\n",
       "</table>\n",
       "</div>"
      ],
      "text/plain": [
       "             invoice     stock_code       quantity     price_unit  \\\n",
       "count  504451.000000  504451.000000  504451.000000  504451.000000   \n",
       "mean    28132.371148    2094.309877      12.336435            NaN   \n",
       "std     15785.569675    1764.789184     207.850433            NaN   \n",
       "min         2.000000       0.000000       1.000000       0.000000   \n",
       "25%     14646.000000     437.000000       1.000000       1.250000   \n",
       "50%     28582.000000    1443.000000       4.000000       2.099609   \n",
       "75%     42199.000000    4009.000000      12.000000       4.128906   \n",
       "max     53627.000000    5304.000000   80995.000000   53600.000000   \n",
       "\n",
       "         price_total    customer_id   total_return         y_pred  \n",
       "count  504451.000000  504451.000000  504451.000000  504451.000000  \n",
       "mean       21.941849    1498.887755       1.804682       1.813338  \n",
       "std       386.183929    1659.756246     277.436707       0.003233  \n",
       "min         0.000000      -1.000000       0.000000       1.816563  \n",
       "25%         3.900000      49.000000       0.000000       1.816563  \n",
       "50%        10.040000     820.000000       0.000000       1.816563  \n",
       "75%        17.700001    2553.000000       0.000000       1.816563  \n",
       "max    168469.593750    5940.000000  168469.593750       1.816563  "
      ]
     },
     "execution_count": 111,
     "metadata": {},
     "output_type": "execute_result"
    }
   ],
   "source": [
    "train.describe()"
   ]
  },
  {
   "cell_type": "code",
   "execution_count": 14,
   "metadata": {},
   "outputs": [
    {
     "data": {
      "text/plain": [
       "<matplotlib.axes._subplots.AxesSubplot at 0x7fda0c6041d0>"
      ]
     },
     "execution_count": 14,
     "metadata": {},
     "output_type": "execute_result"
    },
    {
     "data": {
      "image/png": "[encoded data removed]",
      "text/plain": [
       "<Figure size 864x216 with 1 Axes>"
      ]
     },
     "metadata": {
      "needs_background": "light"
     },
     "output_type": "display_data"
    }
   ],
   "source": [
    "plt.figure(figsize=[12,3])\n",
    "train.boxplot()"
   ]
  },
  {
   "cell_type": "code",
   "execution_count": 114,
   "metadata": {},
   "outputs": [
    {
     "data": {
      "text/plain": [
       "<matplotlib.axes._subplots.AxesSubplot at 0x7f7950231290>"
      ]
     },
     "execution_count": 114,
     "metadata": {},
     "output_type": "execute_result"
    },
    {
     "data": {
      "image/png": "[encoded data removed]",
      "text/plain": [
       "<Figure size 864x216 with 1 Axes>"
      ]
     },
     "metadata": {
      "needs_background": "light"
     },
     "output_type": "display_data"
    }
   ],
   "source": [
    "plt.figure(figsize=[12,3])\n",
    "test.boxplot()"
   ]
  },
  {
   "cell_type": "code",
   "execution_count": 12,
   "metadata": {},
   "outputs": [],
   "source": [
    "train = train[train['price_total'] != 168469.593750]"
   ]
  },
  {
   "cell_type": "code",
   "execution_count": 13,
   "metadata": {},
   "outputs": [],
   "source": [
    "train = train.reset_index(drop = True)"
   ]
  },
  {
   "cell_type": "markdown",
   "metadata": {},
   "source": [
    "Sprawdźmy jak zmini się wartość dummy modelu: "
   ]
  },
  {
   "cell_type": "code",
   "execution_count": 14,
   "metadata": {},
   "outputs": [
    {
     "name": "stdout",
     "output_type": "stream",
     "text": [
      "mse lokalne:\n"
     ]
    },
    {
     "data": {
      "text/plain": [
       "407759.56"
      ]
     },
     "execution_count": 14,
     "metadata": {},
     "output_type": "execute_result"
    }
   ],
   "source": [
    "dummy2 = run_model(train,test,DummyRegressor,{'strategy':'mean'})\n",
    "dummy2 "
   ]
  },
  {
   "cell_type": "code",
   "execution_count": 15,
   "metadata": {},
   "outputs": [],
   "source": [
    "#przepisane z tablicy na Kagglu \n",
    "kaggle_private= 233898.07078\n",
    "kaggle_public = 107984.05892\n",
    "wyniki.append(['DummyRegressor_clean_train',dummy2, kaggle_private , kaggle_public,mse_kaggle_total(kaggle_private,kaggle_public)])"
   ]
  },
  {
   "cell_type": "markdown",
   "metadata": {},
   "source": [
    "PS przez chwile to rozwiązanie dawało mi 6 miejsce dlatego je tutaj zostawiam :) "
   ]
  },
  {
   "cell_type": "markdown",
   "metadata": {},
   "source": [
    "Chcąc walidować kolejne rozwiązania musimy zmodyfikowac nasze podjejście do walidacji dlatego przyjrzyjmy się jak wygląda rozkład zwracalności pojedyńczych produktów oraz całych faktur: "
   ]
  },
  {
   "cell_type": "code",
   "execution_count": 16,
   "metadata": {},
   "outputs": [
    {
     "name": "stdout",
     "output_type": "stream",
     "text": [
      "train\n",
      "[98.06640513  1.93359487]\n",
      "orders\n",
      "[84.54050425 15.45949575]\n"
     ]
    }
   ],
   "source": [
    "def dist(df):\n",
    "    print('train')\n",
    "    print( df.is_canceled.value_counts(normalize=True).values * 100)\n",
    "    \n",
    "    df_agg = df.groupby('invoice').sum()\n",
    "    df_agg['is_canceled'] = (df_agg['is_canceled'] > 0).astype(np.int)\n",
    "\n",
    "    print('orders')\n",
    "    print(df_agg['is_canceled'].value_counts(normalize=True).values * 100)\n",
    "\n",
    "dist(train)"
   ]
  },
  {
   "cell_type": "markdown",
   "metadata": {},
   "source": [
    "W zbiorze testowym dla produktów mam 1.91% zwraconych produktów, natomiast gdy pogrupujemy dane do faktur mamy już 15% zwrotów. Należy pamiętać że wystarczy jeden produkt by faktura została zwrócona. Dlatego podzielny zbiór walidacyjny tak by nie rozdzielać faktur oraz zachować rozkład: "
   ]
  },
  {
   "cell_type": "code",
   "execution_count": 17,
   "metadata": {},
   "outputs": [
    {
     "name": "stdout",
     "output_type": "stream",
     "text": [
      "train\n",
      "[98.1504609  1.8495391]\n",
      "orders\n",
      "[85.22939202 14.77060798]\n",
      "train\n",
      "[97.96411934  2.03588066]\n",
      "orders\n",
      "[85.08019396 14.91980604]\n",
      "train\n",
      "[97.97403112  2.02596888]\n",
      "orders\n",
      "[83.9612085 16.0387915]\n",
      "train\n",
      "[98.02755476  1.97244524]\n",
      "orders\n",
      "[83.84930996 16.15069004]\n",
      "train\n",
      "[98.0810784  1.9189216]\n",
      "orders\n",
      "[84.48340172 15.51659828]\n",
      "train\n",
      "[98.10090197  1.89909803]\n",
      "orders\n",
      "[84.40880269 15.59119731]\n",
      "train\n",
      "[98.17424918  1.82575082]\n",
      "orders\n",
      "[84.74449832 15.25550168]\n",
      "train\n",
      "[97.84517792  2.15482208]\n",
      "orders\n",
      "[84.34004474 15.65995526]\n",
      "train\n",
      "[97.96015462  2.03984538]\n",
      "orders\n",
      "[83.85533184 16.14466816]\n",
      "train\n",
      "[98.38632939  1.61367061]\n",
      "orders\n",
      "[85.45318911 14.54681089]\n"
     ]
    }
   ],
   "source": [
    "X = train[['invoice', 'is_canceled']].values\n",
    "y = train['is_canceled'].values\n",
    "groups = train['invoice'].values\n",
    "\n",
    "X_shuffled, y_shuffled, groups_shuffled = utils.shuffle(X, y, groups)\n",
    "\n",
    "group_kfold = GroupKFold(n_splits=10)\n",
    "\n",
    "for train_idx, test_idx in group_kfold.split(X_shuffled, y_shuffled, groups_shuffled):    \n",
    "    sel_df = train[ train.invoice.isin( groups_shuffled[test_idx]) ]\n",
    "    dist(sel_df)"
   ]
  },
  {
   "cell_type": "code",
   "execution_count": 18,
   "metadata": {},
   "outputs": [],
   "source": [
    "class CustomCV:\n",
    "    def __init__(self, groups, index, shuffle=True, n_splits=3, random_state=0):\n",
    "        self.n_splits = n_splits\n",
    "        self.groups = groups\n",
    "        self.shuffle = shuffle\n",
    "        self.index = index\n",
    "        self.random_state = random_state\n",
    "\n",
    "    def split(self, X, y, groups=None):\n",
    "        if self.shuffle:\n",
    "            X, y, self.groups, self.index = utils.shuffle(X, y, self.groups, self.index, random_state=self.random_state)\n",
    "\n",
    "        group_kfold = GroupKFold(n_splits=self.n_splits)\n",
    "\n",
    "        for train_idx, test_idx in group_kfold.split(X, y, self.groups):    \n",
    "            X_train, y_train = X[train_idx], y[train_idx]\n",
    "            X_test, y_test   = X[test_idx], y[test_idx]\n",
    "\n",
    "            yield train_idx, test_idx \n",
    "\n",
    "    def get_index(self):\n",
    "        return self.index"
   ]
  },
  {
   "cell_type": "code",
   "execution_count": 19,
   "metadata": {},
   "outputs": [],
   "source": [
    "def group_and_calc_mse(train):\n",
    "    train['total_return_pred1'] = (train['price_total'] * train['is_canceled_pred']).astype(np.int)\n",
    "    train_agg = train.groupby('invoice')[ ['price_total', 'is_canceled_pred', 'is_canceled','total_return_pred1'] ].sum()\n",
    "\n",
    "    train_agg['is_canceled'] = train_agg['is_canceled'] > 0\n",
    "    train_agg['is_canceled_pred'] = train_agg['is_canceled_pred'] > 0\n",
    "\n",
    "    train_agg['total_return'] = train_agg['price_total'] * train_agg['is_canceled']\n",
    "    train_agg['total_return_pred2'] = train_agg['price_total'] * train_agg['is_canceled_pred']\n",
    "\n",
    "    return (mse( train_agg['total_return'].values,  train_agg['total_return_pred2'].values) , \n",
    "            mse( train_agg['total_return'].values,  train_agg['total_return_pred1'].values))\n",
    "\n",
    "def update_test_fold(y_pred, df, index_map, test_idx, pred_feat='is_canceled_pred'):\n",
    "    sel_index = df.index.isin( index_map[test_idx] )\n",
    "    df.loc[ sel_index, [pred_feat]] = y_pred\n",
    "    \n",
    "def run_cv(train, model_cls, model_params, n_splits=5, shuffle_rows=True, target='is_canceled', is_plot_learning_curve=True, return_mse = False, is_plot_feature_importances=True):\n",
    "    train.fillna(-1, inplace=True)\n",
    "    \n",
    "    feats = get_feats(train)\n",
    "    print(feats)\n",
    "    \n",
    "    X = train[feats].values\n",
    "    y = train[target].values\n",
    "    \n",
    "    pred_feature = '{}_pred'.format(target)\n",
    "    train[pred_feature] = np.nan\n",
    "    \n",
    "    cv = CustomCV(train['invoice'], train.index)\n",
    "    \n",
    "    for train_idx, test_idx in cv.split(X, y):    \n",
    "        X_train, y_train = X[train_idx], y[train_idx]\n",
    "        X_test, y_test   = X[test_idx], y[test_idx]\n",
    "        model = model_cls(**model_params)\n",
    "        model.fit(X_train, y_train)\n",
    "        y_pred = model.predict(X_test)\n",
    "        update_test_fold(y_pred, train, cv.get_index(), test_idx)\n",
    "    \n",
    "    print('mse: ', group_and_calc_mse(train))\n",
    "               \n",
    "    if is_plot_learning_curve:\n",
    "        title = 'Learning curve: {} {}'.format(model_cls.__name__, model_params)\n",
    "        cv = CustomCV(train['invoice'], train.index)\n",
    "        plot_learning_curve(model_cls(**model_params), X, y, title=title, figsize=(12, 3), random_state=0, cv=cv, scoring='f1')\n",
    "    \n",
    "    if return_mse:\n",
    "        return group_and_calc_mse(train) \n",
    "    \n",
    "    if is_plot_feature_importances:\n",
    "        model = model_cls(**model_params)\n",
    "        model.fit(X, y)\n",
    "        perm = PermutationImportance(model, random_state=0).fit(X, y)\n",
    "        return eli5.show_weights(perm, feature_names=feats) "
   ]
  },
  {
   "cell_type": "code",
   "execution_count": 20,
   "metadata": {},
   "outputs": [],
   "source": [
    "def make_submission(train, test, model_cls, model_params, target='is_canceled'):\n",
    "    file_output1 = '../output/'+str(model_cls)+'pred_smaller''.csv'\n",
    "    file_output2 = '../output/'+str(model_cls)+'pred_biger''.csv'\n",
    "    \n",
    "    feats = get_feats(train)\n",
    "    X = train[feats].values\n",
    "    y = train[target].values\n",
    "    X_test_total = test[feats].values\n",
    "    pred_feature = '{}_pred'.format(target)\n",
    "    test[pred_feature] = np.nan\n",
    "    model = model_cls(**model_params)\n",
    "    model.fit(X, y)\n",
    "    test[pred_feature] = model.predict(X_test_total)\n",
    "\n",
    "    test['total_return_pred1'] = test[pred_feature].astype(np.int) * test['price_total']\n",
    "    test_agg = test.groupby('invoice')[ ['price_total', 'is_canceled_pred','total_return_pred1'] ].sum()\n",
    "    \n",
    "    test_agg['is_canceled_pred'] = test_agg['is_canceled_pred'] > 0\n",
    "    test_agg['total_return_pred2'] = test_agg['price_total'] * test_agg['is_canceled_pred']\n",
    "    \n",
    "    test_agg = test_agg.reset_index()\n",
    "    \n",
    "    test_agg = test_agg.rename(columns={'total_return_pred1': 'total_return'})\n",
    "    test_agg[ ['invoice', 'total_return'] ].to_csv(file_output1, index=False)\n",
    "    test_agg = test_agg.rename(columns={'total_return': 'total_return_pred1','total_return_pred2': 'total_return' })\n",
    "    test_agg[ ['invoice', 'total_return'] ].to_csv(file_output2, index=False)\n",
    "    \n",
    "    print('ok!')"
   ]
  },
  {
   "cell_type": "markdown",
   "metadata": {},
   "source": [
    "Mamy już walidację więc sprawdźmy pozostałe modele"
   ]
  },
  {
   "cell_type": "code",
   "execution_count": 24,
   "metadata": {},
   "outputs": [
    {
     "name": "stdout",
     "output_type": "stream",
     "text": [
      "['invoice', 'stock_code', 'quantity', 'price_unit', 'price_total', 'customer_id']\n",
      "mse:  (581184.94, 404442.5559680595)\n"
     ]
    },
    {
     "data": {
      "text/html": [
       "\n",
       "    <style>\n",
       "    table.eli5-weights tr:hover {\n",
       "        filter: brightness(85%);\n",
       "    }\n",
       "</style>\n",
       "\n",
       "\n",
       "\n",
       "    \n",
       "\n",
       "    \n",
       "\n",
       "    \n",
       "\n",
       "    \n",
       "\n",
       "    \n",
       "\n",
       "    \n",
       "\n",
       "\n",
       "    \n",
       "\n",
       "    \n",
       "\n",
       "    \n",
       "\n",
       "    \n",
       "\n",
       "    \n",
       "\n",
       "    \n",
       "\n",
       "\n",
       "    \n",
       "\n",
       "    \n",
       "\n",
       "    \n",
       "\n",
       "    \n",
       "\n",
       "    \n",
       "        <table class=\"eli5-weights eli5-feature-importances\" style=\"border-collapse: collapse; border: none; margin-top: 0em; table-layout: auto;\">\n",
       "    <thead>\n",
       "    <tr style=\"border: none;\">\n",
       "        <th style=\"padding: 0 1em 0 0.5em; text-align: right; border: none;\">Weight</th>\n",
       "        <th style=\"padding: 0 0.5em 0 0.5em; text-align: left; border: none;\">Feature</th>\n",
       "    </tr>\n",
       "    </thead>\n",
       "    <tbody>\n",
       "    \n",
       "        <tr style=\"background-color: hsl(120, 100.00%, 80.00%); border: none;\">\n",
       "            <td style=\"padding: 0 1em 0 0.5em; text-align: right; border: none;\">\n",
       "                0.0218\n",
       "                \n",
       "                    &plusmn; 0.0003\n",
       "                \n",
       "            </td>\n",
       "            <td style=\"padding: 0 0.5em 0 0.5em; text-align: left; border: none;\">\n",
       "                price_unit\n",
       "            </td>\n",
       "        </tr>\n",
       "    \n",
       "        <tr style=\"background-color: hsl(120, 100.00%, 81.23%); border: none;\">\n",
       "            <td style=\"padding: 0 1em 0 0.5em; text-align: right; border: none;\">\n",
       "                0.0199\n",
       "                \n",
       "                    &plusmn; 0.0003\n",
       "                \n",
       "            </td>\n",
       "            <td style=\"padding: 0 0.5em 0 0.5em; text-align: left; border: none;\">\n",
       "                price_total\n",
       "            </td>\n",
       "        </tr>\n",
       "    \n",
       "        <tr style=\"background-color: hsl(120, 100.00%, 95.04%); border: none;\">\n",
       "            <td style=\"padding: 0 1em 0 0.5em; text-align: right; border: none;\">\n",
       "                0.0030\n",
       "                \n",
       "                    &plusmn; 0.0001\n",
       "                \n",
       "            </td>\n",
       "            <td style=\"padding: 0 0.5em 0 0.5em; text-align: left; border: none;\">\n",
       "                customer_id\n",
       "            </td>\n",
       "        </tr>\n",
       "    \n",
       "        <tr style=\"background-color: hsl(120, 100.00%, 95.56%); border: none;\">\n",
       "            <td style=\"padding: 0 1em 0 0.5em; text-align: right; border: none;\">\n",
       "                0.0025\n",
       "                \n",
       "                    &plusmn; 0.0002\n",
       "                \n",
       "            </td>\n",
       "            <td style=\"padding: 0 0.5em 0 0.5em; text-align: left; border: none;\">\n",
       "                quantity\n",
       "            </td>\n",
       "        </tr>\n",
       "    \n",
       "        <tr style=\"background-color: hsl(120, 100.00%, 95.93%); border: none;\">\n",
       "            <td style=\"padding: 0 1em 0 0.5em; text-align: right; border: none;\">\n",
       "                0.0022\n",
       "                \n",
       "                    &plusmn; 0.0001\n",
       "                \n",
       "            </td>\n",
       "            <td style=\"padding: 0 0.5em 0 0.5em; text-align: left; border: none;\">\n",
       "                stock_code\n",
       "            </td>\n",
       "        </tr>\n",
       "    \n",
       "        <tr style=\"background-color: hsl(120, 100.00%, 97.82%); border: none;\">\n",
       "            <td style=\"padding: 0 1em 0 0.5em; text-align: right; border: none;\">\n",
       "                0.0009\n",
       "                \n",
       "                    &plusmn; 0.0000\n",
       "                \n",
       "            </td>\n",
       "            <td style=\"padding: 0 0.5em 0 0.5em; text-align: left; border: none;\">\n",
       "                invoice\n",
       "            </td>\n",
       "        </tr>\n",
       "    \n",
       "    \n",
       "    </tbody>\n",
       "</table>\n",
       "    \n",
       "\n",
       "    \n",
       "\n",
       "\n",
       "    \n",
       "\n",
       "    \n",
       "\n",
       "    \n",
       "\n",
       "    \n",
       "\n",
       "    \n",
       "\n",
       "    \n",
       "\n",
       "\n",
       "\n"
      ],
      "text/plain": [
       "<IPython.core.display.HTML object>"
      ]
     },
     "execution_count": 24,
     "metadata": {},
     "output_type": "execute_result"
    },
    {
     "data": {
      "image/png": "[encoded data removed]",
      "text/plain": [
       "<Figure size 864x216 with 1 Axes>"
      ]
     },
     "metadata": {
      "needs_background": "light"
     },
     "output_type": "display_data"
    }
   ],
   "source": [
    "run_cv(train, DecisionTreeClassifier, {'max_depth': 10})"
   ]
  },
  {
   "cell_type": "markdown",
   "metadata": {},
   "source": [
    "Przygladając się funkcji group_and_calc_mse możemy liczyć na dwa sposoby podejść do liczenia całkowitego zwrotu z faktury, możemy liczyć koszt tylko zwaracengo produktu lub całości. W tym przypadku bardziej opłaca nam się w sesnie MSE obliżyć koszt zwrotu do tylko jednego produktu. Zapiszmy wyniki: "
   ]
  },
  {
   "cell_type": "code",
   "execution_count": 21,
   "metadata": {},
   "outputs": [
    {
     "name": "stdout",
     "output_type": "stream",
     "text": [
      "['invoice', 'stock_code', 'quantity', 'price_unit', 'price_total', 'customer_id']\n",
      "mse:  (581184.94, 404442.5559680595)\n",
      "ok!\n"
     ]
    }
   ],
   "source": [
    "model_cls = DecisionTreeClassifier\n",
    "model_params = {'max_depth': 10}\n",
    "tree = run_cv(train, model_cls, model_params, return_mse = True,is_plot_learning_curve=False, is_plot_feature_importances=False)\n",
    "make_submission(train, test, model_cls, model_params)\n",
    "\n",
    "#przepisane z tablicy na Kagglu \n",
    "kaggle_private= 375955.94700\n",
    "kaggle_public = 183956.84479\n",
    "wyniki.append([str(model_cls) + \"1\",tree[0] ,kaggle_private , kaggle_public,mse_kaggle_total(kaggle_private,kaggle_public)])\n",
    "\n",
    "#przepisane z tablicy na Kagglu \n",
    "kaggle_private= 410205.49473\n",
    "kaggle_public = 283436.75369\n",
    "wyniki.append([str(model_cls) + \"2\",tree[1] ,kaggle_private , kaggle_public,mse_kaggle_total(kaggle_private,kaggle_public)])\n"
   ]
  },
  {
   "cell_type": "code",
   "execution_count": 22,
   "metadata": {},
   "outputs": [
    {
     "name": "stdout",
     "output_type": "stream",
     "text": [
      "['invoice', 'stock_code', 'quantity', 'price_unit', 'price_total', 'customer_id']\n",
      "mse:  (431661.5, 404398.4676725098)\n",
      "ok!\n"
     ]
    },
    {
     "data": {
      "image/png": "[encoded data removed]",
      "text/plain": [
       "<Figure size 864x216 with 1 Axes>"
      ]
     },
     "metadata": {
      "needs_background": "light"
     },
     "output_type": "display_data"
    }
   ],
   "source": [
    "model_cls = RandomForestClassifier\n",
    "model_params = {'n_estimators':50, 'max_depth':5}\n",
    "forest = run_cv(train, model_cls, model_params, return_mse = True)\n",
    "make_submission(train, test, model_cls, model_params)\n",
    "\n",
    "#przepisane z tablicy na Kagglu \n",
    "kaggle_private= 54352.10835\n",
    "kaggle_public = 114778.80839\n",
    "wyniki.append([str(model_cls) + \"1\",forest[0] ,kaggle_private , kaggle_public,mse_kaggle_total(kaggle_private,kaggle_public)])\n",
    "\n",
    "#przepisane z tablicy na Kagglu \n",
    "kaggle_private= 54322.40222\n",
    "kaggle_public = 114778.80837\n",
    "wyniki.append([str(model_cls) + \"2\",forest[1] ,kaggle_private , kaggle_public,mse_kaggle_total(kaggle_private,kaggle_public)])"
   ]
  },
  {
   "cell_type": "code",
   "execution_count": 23,
   "metadata": {},
   "outputs": [
    {
     "name": "stdout",
     "output_type": "stream",
     "text": [
      "['invoice', 'stock_code', 'quantity', 'price_unit', 'price_total', 'customer_id']\n",
      "mse:  (528766.5, 404557.35908468324)\n",
      "ok!\n"
     ]
    },
    {
     "data": {
      "image/png": "[encoded data removed]",
      "text/plain": [
       "<Figure size 864x216 with 1 Axes>"
      ]
     },
     "metadata": {
      "needs_background": "light"
     },
     "output_type": "display_data"
    }
   ],
   "source": [
    "model_cls = xgb.XGBClassifier\n",
    "model_params = {'max_depth': 5, 'n_estimators': 50, 'learning_rate': 0.5, 'random_state': 0}\n",
    "xgb_ = run_cv(train, model_cls, model_params, return_mse = True)\n",
    "make_submission(train, test, model_cls, model_params)\n",
    "\n",
    "#przepisane z tablicy na Kagglu \n",
    "kaggle_private= 91135.04627\n",
    "kaggle_public = 113179.76990\n",
    "wyniki.append([str(model_cls) + \"1\",xgb_[0] ,kaggle_private , kaggle_public,mse_kaggle_total(kaggle_private,kaggle_public)])\n",
    "\n",
    "#przepisane z tablicy na Kagglu \n",
    "kaggle_private= 64437.63815\n",
    "kaggle_public = 84234.42992\n",
    "wyniki.append([str(model_cls) + \"2\",xgb_[1] ,kaggle_private , kaggle_public,mse_kaggle_total(kaggle_private,kaggle_public)])"
   ]
  },
  {
   "cell_type": "code",
   "execution_count": 24,
   "metadata": {},
   "outputs": [],
   "source": [
    "def make_df_and_plot(wyniki): \n",
    "    df = pd.DataFrame(data=wyniki,columns=['nazwa', 'mse_lokalnie', 'mse_kaggle_private','mse_kaggle_public','mse_kaggle_total'])\n",
    "    df.plot.bar(x='nazwa' , figsize=(12,3),legend=True )"
   ]
  },
  {
   "cell_type": "code",
   "execution_count": 25,
   "metadata": {},
   "outputs": [
    {
     "data": {
      "image/png": "[encoded data removed]",
      "text/plain": [
       "<Figure size 864x216 with 1 Axes>"
      ]
     },
     "metadata": {
      "needs_background": "light"
     },
     "output_type": "display_data"
    }
   ],
   "source": [
    "make_df_and_plot(wyniki)"
   ]
  },
  {
   "cell_type": "code",
   "execution_count": 26,
   "metadata": {},
   "outputs": [
    {
     "data": {
      "image/png": "[encoded data removed]",
      "text/plain": [
       "<Figure size 864x216 with 1 Axes>"
      ]
     },
     "metadata": {
      "needs_background": "light"
     },
     "output_type": "display_data"
    }
   ],
   "source": [
    "make_df_and_plot(wyniki[1:])"
   ]
  },
  {
   "cell_type": "markdown",
   "metadata": {},
   "source": [
    "Ok więc mamy 3 modele, sama zmiana modelu nic nam nie dała dlatego należy przejść do tworzenia nowych cech: "
   ]
  },
  {
   "cell_type": "markdown",
   "metadata": {},
   "source": [
    "### Feature engineering"
   ]
  },
  {
   "cell_type": "code",
   "execution_count": 28,
   "metadata": {},
   "outputs": [],
   "source": [
    "def group_to_dict(group_key, agg_func=np.sum):\n",
    "    train = df_all[ ~df_all['is_canceled'].isnull()]\n",
    "    dict_ = train.groupby(group_key)['is_canceled'].agg(agg_func).to_dict()\n",
    "    if -1 in dict_: del dict_[-1] \n",
    "    mean = np.mean( list(dict_.values()) )\n",
    "    return defaultdict(lambda: mean, dict_)"
   ]
  },
  {
   "cell_type": "code",
   "execution_count": 29,
   "metadata": {},
   "outputs": [
    {
     "data": {
      "text/plain": [
       "15730"
      ]
     },
     "execution_count": 29,
     "metadata": {},
     "output_type": "execute_result"
    }
   ],
   "source": [
    "df_all = pd.concat([train, test], sort=False)\n",
    "\n",
    "#release memory\n",
    "del train, test\n",
    "gc.collect()"
   ]
  },
  {
   "cell_type": "code",
   "execution_count": 30,
   "metadata": {},
   "outputs": [],
   "source": [
    "#feature engineering\n",
    "df_all['cnt_customer_cancel'] = df_all['customer_id'].map(group_to_dict('customer_id'))\n",
    "df_all['cnt_customer_orders'] = df_all['customer_id'].map(group_to_dict('customer_id', agg_func=np.size))\n",
    "df_all['cnt_product_cancel'] = df_all['stock_code'].map(group_to_dict('stock_code'))\n",
    "df_all['cnt_product_orders'] = df_all['stock_code'].map(group_to_dict('stock_code', agg_func=np.size))"
   ]
  },
  {
   "cell_type": "code",
   "execution_count": 31,
   "metadata": {},
   "outputs": [],
   "source": [
    "# prepare to train\n",
    "train = df_all[ ~df_all['is_canceled'].isnull() ].copy()\n",
    "test = df_all[ df_all['is_canceled'].isnull() ].copy()"
   ]
  },
  {
   "cell_type": "code",
   "execution_count": 32,
   "metadata": {},
   "outputs": [
    {
     "name": "stdout",
     "output_type": "stream",
     "text": [
      "['invoice', 'stock_code', 'quantity', 'price_unit', 'price_total', 'customer_id', 'cnt_customer_orders', 'cnt_product_orders']\n",
      "mse:  (529622.75, 404658.9002017018)\n",
      "ok!\n"
     ]
    },
    {
     "data": {
      "image/png": "[encoded data removed]",
      "text/plain": [
       "<Figure size 864x216 with 1 Axes>"
      ]
     },
     "metadata": {
      "needs_background": "light"
     },
     "output_type": "display_data"
    }
   ],
   "source": [
    "model_cls = xgb.XGBClassifier\n",
    "model_params = {'max_depth': 5, 'n_estimators': 100, 'learning_rate': 0.3, 'random_state': 0}\n",
    "xgb_ = run_cv(train, model_cls, model_params, return_mse = True)\n",
    "make_submission(train, test, model_cls, model_params)"
   ]
  },
  {
   "cell_type": "code",
   "execution_count": 33,
   "metadata": {},
   "outputs": [],
   "source": [
    "#przepisane z tablicy na Kagglu \n",
    "kaggle_private= 46135.18193\n",
    "kaggle_public = 73713.97745\n",
    "wyniki.append([str(model_cls) + \"1\",xgb_[0] ,kaggle_private , kaggle_public,mse_kaggle_total(kaggle_private,kaggle_public)])\n",
    "\n",
    "#przepisane z tablicy na Kagglu \n",
    "kaggle_private= 52757.71606\n",
    "kaggle_public = 76145.98521\n",
    "wyniki.append([str(model_cls) + \"2\",xgb_[1] ,kaggle_private , kaggle_public,mse_kaggle_total(kaggle_private,kaggle_public)])"
   ]
  },
  {
   "cell_type": "code",
   "execution_count": 75,
   "metadata": {},
   "outputs": [
    {
     "data": {
      "image/png": "[encoded data removed]",
      "text/plain": [
       "<Figure size 864x216 with 1 Axes>"
      ]
     },
     "metadata": {
      "needs_background": "light"
     },
     "output_type": "display_data"
    }
   ],
   "source": [
    "make_df_and_plot(wyniki[1:])"
   ]
  },
  {
   "cell_type": "markdown",
   "metadata": {},
   "source": [
    "Lokalny wynik nie wskazuje jakbyśmy doszli do najlepszego rozwiązania na kagglu. To co możemy zrobić to, powtórzyć sztuczkę z usunięciem odstającej obserwacji. Czyli podzielić nasz zbiór na 2 części małych i dużych zamówień. "
   ]
  },
  {
   "cell_type": "code",
   "execution_count": 35,
   "metadata": {},
   "outputs": [],
   "source": [
    "train['total_return_proc'] = train['total_return'] * 100 / train['total_return'].sum()"
   ]
  },
  {
   "cell_type": "code",
   "execution_count": 71,
   "metadata": {},
   "outputs": [
    {
     "data": {
      "text/html": [
       "<div>\n",
       "<style scoped>\n",
       "    .dataframe tbody tr th:only-of-type {\n",
       "        vertical-align: middle;\n",
       "    }\n",
       "\n",
       "    .dataframe tbody tr th {\n",
       "        vertical-align: top;\n",
       "    }\n",
       "\n",
       "    .dataframe thead th {\n",
       "        text-align: right;\n",
       "    }\n",
       "</style>\n",
       "<table border=\"1\" class=\"dataframe\">\n",
       "  <thead>\n",
       "    <tr style=\"text-align: right;\">\n",
       "      <th></th>\n",
       "      <th>invoice</th>\n",
       "      <th>stock_code</th>\n",
       "      <th>description</th>\n",
       "      <th>quantity</th>\n",
       "      <th>invoice_date</th>\n",
       "      <th>price_unit</th>\n",
       "      <th>price_total</th>\n",
       "      <th>customer_id</th>\n",
       "      <th>country</th>\n",
       "      <th>is_canceled</th>\n",
       "      <th>...</th>\n",
       "      <th>total_return</th>\n",
       "      <th>y_pred</th>\n",
       "      <th>is_canceled_pred</th>\n",
       "      <th>total_return_pred1</th>\n",
       "      <th>cnt_customer_cancel</th>\n",
       "      <th>cnt_customer_orders</th>\n",
       "      <th>cnt_product_cancel</th>\n",
       "      <th>cnt_product_orders</th>\n",
       "      <th>total_return_proc</th>\n",
       "      <th>big_invoice</th>\n",
       "    </tr>\n",
       "  </thead>\n",
       "  <tbody>\n",
       "    <tr>\n",
       "      <th>272422</th>\n",
       "      <td>30479</td>\n",
       "      <td>4647</td>\n",
       "      <td>MEDIUM CERAMIC TOP STORAGE JAR</td>\n",
       "      <td>74215</td>\n",
       "      <td>2011-01-18 10:17:00</td>\n",
       "      <td>1.040039</td>\n",
       "      <td>77183.601562</td>\n",
       "      <td>836</td>\n",
       "      <td>United Kingdom</td>\n",
       "      <td>True</td>\n",
       "      <td>...</td>\n",
       "      <td>77183.601562</td>\n",
       "      <td>1.470746</td>\n",
       "      <td>False</td>\n",
       "      <td>0</td>\n",
       "      <td>2</td>\n",
       "      <td>32.000000</td>\n",
       "      <td>4</td>\n",
       "      <td>132.0</td>\n",
       "      <td>10.403274</td>\n",
       "      <td>True</td>\n",
       "    </tr>\n",
       "    <tr>\n",
       "      <th>350594</th>\n",
       "      <td>39260</td>\n",
       "      <td>1232</td>\n",
       "      <td>Manual</td>\n",
       "      <td>1</td>\n",
       "      <td>2011-06-10 15:31:00</td>\n",
       "      <td>38976.000000</td>\n",
       "      <td>38970.000000</td>\n",
       "      <td>5040</td>\n",
       "      <td>United Kingdom</td>\n",
       "      <td>True</td>\n",
       "      <td>...</td>\n",
       "      <td>38970.000000</td>\n",
       "      <td>1.470746</td>\n",
       "      <td>False</td>\n",
       "      <td>0</td>\n",
       "      <td>1</td>\n",
       "      <td>2.000000</td>\n",
       "      <td>257</td>\n",
       "      <td>679.0</td>\n",
       "      <td>5.252613</td>\n",
       "      <td>True</td>\n",
       "    </tr>\n",
       "    <tr>\n",
       "      <th>120439</th>\n",
       "      <td>14000</td>\n",
       "      <td>1232</td>\n",
       "      <td>Manual</td>\n",
       "      <td>1</td>\n",
       "      <td>2010-06-17 16:52:00</td>\n",
       "      <td>25104.000000</td>\n",
       "      <td>25111.089844</td>\n",
       "      <td>2959</td>\n",
       "      <td>United Kingdom</td>\n",
       "      <td>True</td>\n",
       "      <td>...</td>\n",
       "      <td>25111.089844</td>\n",
       "      <td>1.470746</td>\n",
       "      <td>False</td>\n",
       "      <td>0</td>\n",
       "      <td>True</td>\n",
       "      <td>1.000000</td>\n",
       "      <td>257</td>\n",
       "      <td>679.0</td>\n",
       "      <td>3.384625</td>\n",
       "      <td>True</td>\n",
       "    </tr>\n",
       "    <tr>\n",
       "      <th>263664</th>\n",
       "      <td>29814</td>\n",
       "      <td>4574</td>\n",
       "      <td>AMAZON FEE</td>\n",
       "      <td>1</td>\n",
       "      <td>2011-01-05 09:55:00</td>\n",
       "      <td>16896.000000</td>\n",
       "      <td>16888.019531</td>\n",
       "      <td>-1</td>\n",
       "      <td>United Kingdom</td>\n",
       "      <td>True</td>\n",
       "      <td>...</td>\n",
       "      <td>16888.019531</td>\n",
       "      <td>1.470746</td>\n",
       "      <td>False</td>\n",
       "      <td>0</td>\n",
       "      <td>1.93891</td>\n",
       "      <td>80.985855</td>\n",
       "      <td>19</td>\n",
       "      <td>20.0</td>\n",
       "      <td>2.276270</td>\n",
       "      <td>True</td>\n",
       "    </tr>\n",
       "    <tr>\n",
       "      <th>263665</th>\n",
       "      <td>29815</td>\n",
       "      <td>4574</td>\n",
       "      <td>AMAZON FEE</td>\n",
       "      <td>1</td>\n",
       "      <td>2011-01-05 09:57:00</td>\n",
       "      <td>16448.000000</td>\n",
       "      <td>16453.710938</td>\n",
       "      <td>-1</td>\n",
       "      <td>United Kingdom</td>\n",
       "      <td>True</td>\n",
       "      <td>...</td>\n",
       "      <td>16453.710938</td>\n",
       "      <td>1.470746</td>\n",
       "      <td>False</td>\n",
       "      <td>0</td>\n",
       "      <td>1.93891</td>\n",
       "      <td>80.985855</td>\n",
       "      <td>19</td>\n",
       "      <td>20.0</td>\n",
       "      <td>2.217731</td>\n",
       "      <td>True</td>\n",
       "    </tr>\n",
       "    <tr>\n",
       "      <th>251474</th>\n",
       "      <td>28467</td>\n",
       "      <td>4574</td>\n",
       "      <td>AMAZON FEE</td>\n",
       "      <td>1</td>\n",
       "      <td>2010-12-07 15:34:00</td>\n",
       "      <td>13472.000000</td>\n",
       "      <td>13474.790039</td>\n",
       "      <td>-1</td>\n",
       "      <td>United Kingdom</td>\n",
       "      <td>True</td>\n",
       "      <td>...</td>\n",
       "      <td>13474.790039</td>\n",
       "      <td>1.470746</td>\n",
       "      <td>False</td>\n",
       "      <td>0</td>\n",
       "      <td>1.93891</td>\n",
       "      <td>80.985855</td>\n",
       "      <td>19</td>\n",
       "      <td>20.0</td>\n",
       "      <td>1.816214</td>\n",
       "      <td>True</td>\n",
       "    </tr>\n",
       "    <tr>\n",
       "      <th>496480</th>\n",
       "      <td>53030</td>\n",
       "      <td>4574</td>\n",
       "      <td>AMAZON FEE</td>\n",
       "      <td>1</td>\n",
       "      <td>2011-12-05 11:35:00</td>\n",
       "      <td>11584.000000</td>\n",
       "      <td>11586.500000</td>\n",
       "      <td>-1</td>\n",
       "      <td>United Kingdom</td>\n",
       "      <td>True</td>\n",
       "      <td>...</td>\n",
       "      <td>11586.500000</td>\n",
       "      <td>1.470746</td>\n",
       "      <td>False</td>\n",
       "      <td>0</td>\n",
       "      <td>1.93891</td>\n",
       "      <td>80.985855</td>\n",
       "      <td>19</td>\n",
       "      <td>20.0</td>\n",
       "      <td>1.561699</td>\n",
       "      <td>True</td>\n",
       "    </tr>\n",
       "    <tr>\n",
       "      <th>68126</th>\n",
       "      <td>7611</td>\n",
       "      <td>1232</td>\n",
       "      <td>Manual</td>\n",
       "      <td>1</td>\n",
       "      <td>2010-03-23 15:24:00</td>\n",
       "      <td>10952.000000</td>\n",
       "      <td>10953.500000</td>\n",
       "      <td>2100</td>\n",
       "      <td>United Kingdom</td>\n",
       "      <td>True</td>\n",
       "      <td>...</td>\n",
       "      <td>10953.500000</td>\n",
       "      <td>1.470746</td>\n",
       "      <td>False</td>\n",
       "      <td>0</td>\n",
       "      <td>2</td>\n",
       "      <td>2.000000</td>\n",
       "      <td>257</td>\n",
       "      <td>679.0</td>\n",
       "      <td>1.476379</td>\n",
       "      <td>True</td>\n",
       "    </tr>\n",
       "    <tr>\n",
       "      <th>68125</th>\n",
       "      <td>7609</td>\n",
       "      <td>1232</td>\n",
       "      <td>Manual</td>\n",
       "      <td>1</td>\n",
       "      <td>2010-03-23 15:20:00</td>\n",
       "      <td>10952.000000</td>\n",
       "      <td>10953.500000</td>\n",
       "      <td>2100</td>\n",
       "      <td>United Kingdom</td>\n",
       "      <td>True</td>\n",
       "      <td>...</td>\n",
       "      <td>10953.500000</td>\n",
       "      <td>1.470746</td>\n",
       "      <td>False</td>\n",
       "      <td>0</td>\n",
       "      <td>2</td>\n",
       "      <td>2.000000</td>\n",
       "      <td>257</td>\n",
       "      <td>679.0</td>\n",
       "      <td>1.476379</td>\n",
       "      <td>True</td>\n",
       "    </tr>\n",
       "    <tr>\n",
       "      <th>182549</th>\n",
       "      <td>21421</td>\n",
       "      <td>1232</td>\n",
       "      <td>Manual</td>\n",
       "      <td>1</td>\n",
       "      <td>2010-10-05 11:47:00</td>\n",
       "      <td>10472.000000</td>\n",
       "      <td>10468.799805</td>\n",
       "      <td>580</td>\n",
       "      <td>United Kingdom</td>\n",
       "      <td>True</td>\n",
       "      <td>...</td>\n",
       "      <td>10468.799805</td>\n",
       "      <td>1.470746</td>\n",
       "      <td>False</td>\n",
       "      <td>0</td>\n",
       "      <td>4</td>\n",
       "      <td>24.000000</td>\n",
       "      <td>257</td>\n",
       "      <td>679.0</td>\n",
       "      <td>1.411048</td>\n",
       "      <td>True</td>\n",
       "    </tr>\n",
       "    <tr>\n",
       "      <th>167307</th>\n",
       "      <td>19775</td>\n",
       "      <td>1232</td>\n",
       "      <td>Manual</td>\n",
       "      <td>1</td>\n",
       "      <td>2010-09-16 14:53:00</td>\n",
       "      <td>10472.000000</td>\n",
       "      <td>10468.799805</td>\n",
       "      <td>580</td>\n",
       "      <td>United Kingdom</td>\n",
       "      <td>True</td>\n",
       "      <td>...</td>\n",
       "      <td>10468.799805</td>\n",
       "      <td>1.470746</td>\n",
       "      <td>False</td>\n",
       "      <td>0</td>\n",
       "      <td>4</td>\n",
       "      <td>24.000000</td>\n",
       "      <td>257</td>\n",
       "      <td>679.0</td>\n",
       "      <td>1.411048</td>\n",
       "      <td>True</td>\n",
       "    </tr>\n",
       "    <tr>\n",
       "      <th>457607</th>\n",
       "      <td>49826</td>\n",
       "      <td>4574</td>\n",
       "      <td>AMAZON FEE</td>\n",
       "      <td>1</td>\n",
       "      <td>2011-11-07 15:21:00</td>\n",
       "      <td>8288.000000</td>\n",
       "      <td>8286.219727</td>\n",
       "      <td>-1</td>\n",
       "      <td>United Kingdom</td>\n",
       "      <td>True</td>\n",
       "      <td>...</td>\n",
       "      <td>8286.219727</td>\n",
       "      <td>1.470746</td>\n",
       "      <td>False</td>\n",
       "      <td>0</td>\n",
       "      <td>1.93891</td>\n",
       "      <td>80.985855</td>\n",
       "      <td>19</td>\n",
       "      <td>20.0</td>\n",
       "      <td>1.116867</td>\n",
       "      <td>True</td>\n",
       "    </tr>\n",
       "    <tr>\n",
       "      <th>327216</th>\n",
       "      <td>36463</td>\n",
       "      <td>86</td>\n",
       "      <td>POSTAGE</td>\n",
       "      <td>1</td>\n",
       "      <td>2011-05-03 12:51:00</td>\n",
       "      <td>8144.000000</td>\n",
       "      <td>8142.750000</td>\n",
       "      <td>551</td>\n",
       "      <td>United Kingdom</td>\n",
       "      <td>True</td>\n",
       "      <td>...</td>\n",
       "      <td>8142.750000</td>\n",
       "      <td>1.470746</td>\n",
       "      <td>False</td>\n",
       "      <td>0</td>\n",
       "      <td>28</td>\n",
       "      <td>218.000000</td>\n",
       "      <td>117</td>\n",
       "      <td>1066.0</td>\n",
       "      <td>1.097529</td>\n",
       "      <td>True</td>\n",
       "    </tr>\n",
       "    <tr>\n",
       "      <th>407528</th>\n",
       "      <td>45219</td>\n",
       "      <td>4574</td>\n",
       "      <td>AMAZON FEE</td>\n",
       "      <td>1</td>\n",
       "      <td>2011-09-15 13:53:00</td>\n",
       "      <td>7428.000000</td>\n",
       "      <td>7427.970215</td>\n",
       "      <td>-1</td>\n",
       "      <td>United Kingdom</td>\n",
       "      <td>True</td>\n",
       "      <td>...</td>\n",
       "      <td>7427.970215</td>\n",
       "      <td>1.470746</td>\n",
       "      <td>False</td>\n",
       "      <td>0</td>\n",
       "      <td>1.93891</td>\n",
       "      <td>80.985855</td>\n",
       "      <td>19</td>\n",
       "      <td>20.0</td>\n",
       "      <td>1.001187</td>\n",
       "      <td>True</td>\n",
       "    </tr>\n",
       "    <tr>\n",
       "      <th>65816</th>\n",
       "      <td>7314</td>\n",
       "      <td>1232</td>\n",
       "      <td>Manual</td>\n",
       "      <td>1</td>\n",
       "      <td>2010-03-19 11:49:00</td>\n",
       "      <td>6960.000000</td>\n",
       "      <td>6958.169922</td>\n",
       "      <td>2056</td>\n",
       "      <td>Norway</td>\n",
       "      <td>True</td>\n",
       "      <td>...</td>\n",
       "      <td>6958.169922</td>\n",
       "      <td>1.470746</td>\n",
       "      <td>False</td>\n",
       "      <td>0</td>\n",
       "      <td>2</td>\n",
       "      <td>3.000000</td>\n",
       "      <td>257</td>\n",
       "      <td>679.0</td>\n",
       "      <td>0.937864</td>\n",
       "      <td>False</td>\n",
       "    </tr>\n",
       "    <tr>\n",
       "      <th>327235</th>\n",
       "      <td>36477</td>\n",
       "      <td>1232</td>\n",
       "      <td>Manual</td>\n",
       "      <td>1</td>\n",
       "      <td>2011-05-03 14:12:00</td>\n",
       "      <td>6928.000000</td>\n",
       "      <td>6930.000000</td>\n",
       "      <td>551</td>\n",
       "      <td>United Kingdom</td>\n",
       "      <td>True</td>\n",
       "      <td>...</td>\n",
       "      <td>6930.000000</td>\n",
       "      <td>1.470746</td>\n",
       "      <td>False</td>\n",
       "      <td>0</td>\n",
       "      <td>28</td>\n",
       "      <td>218.000000</td>\n",
       "      <td>257</td>\n",
       "      <td>679.0</td>\n",
       "      <td>0.934067</td>\n",
       "      <td>False</td>\n",
       "    </tr>\n",
       "    <tr>\n",
       "      <th>251582</th>\n",
       "      <td>28474</td>\n",
       "      <td>4574</td>\n",
       "      <td>AMAZON FEE</td>\n",
       "      <td>1</td>\n",
       "      <td>2010-12-07 15:51:00</td>\n",
       "      <td>6708.000000</td>\n",
       "      <td>6706.709961</td>\n",
       "      <td>-1</td>\n",
       "      <td>United Kingdom</td>\n",
       "      <td>True</td>\n",
       "      <td>...</td>\n",
       "      <td>6706.709961</td>\n",
       "      <td>1.470746</td>\n",
       "      <td>False</td>\n",
       "      <td>0</td>\n",
       "      <td>1.93891</td>\n",
       "      <td>80.985855</td>\n",
       "      <td>19</td>\n",
       "      <td>20.0</td>\n",
       "      <td>0.903971</td>\n",
       "      <td>False</td>\n",
       "    </tr>\n",
       "    <tr>\n",
       "      <th>369640</th>\n",
       "      <td>41253</td>\n",
       "      <td>4574</td>\n",
       "      <td>AMAZON FEE</td>\n",
       "      <td>1</td>\n",
       "      <td>2011-07-13 15:21:00</td>\n",
       "      <td>6496.000000</td>\n",
       "      <td>6497.470215</td>\n",
       "      <td>-1</td>\n",
       "      <td>United Kingdom</td>\n",
       "      <td>True</td>\n",
       "      <td>...</td>\n",
       "      <td>6497.470215</td>\n",
       "      <td>1.470746</td>\n",
       "      <td>False</td>\n",
       "      <td>0</td>\n",
       "      <td>1.93891</td>\n",
       "      <td>80.985855</td>\n",
       "      <td>19</td>\n",
       "      <td>20.0</td>\n",
       "      <td>0.875768</td>\n",
       "      <td>False</td>\n",
       "    </tr>\n",
       "    <tr>\n",
       "      <th>428636</th>\n",
       "      <td>47095</td>\n",
       "      <td>4574</td>\n",
       "      <td>AMAZON FEE</td>\n",
       "      <td>1</td>\n",
       "      <td>2011-10-07 10:29:00</td>\n",
       "      <td>5944.000000</td>\n",
       "      <td>5942.569824</td>\n",
       "      <td>-1</td>\n",
       "      <td>United Kingdom</td>\n",
       "      <td>True</td>\n",
       "      <td>...</td>\n",
       "      <td>5942.569824</td>\n",
       "      <td>1.470746</td>\n",
       "      <td>False</td>\n",
       "      <td>0</td>\n",
       "      <td>1.93891</td>\n",
       "      <td>80.985855</td>\n",
       "      <td>19</td>\n",
       "      <td>20.0</td>\n",
       "      <td>0.800976</td>\n",
       "      <td>False</td>\n",
       "    </tr>\n",
       "    <tr>\n",
       "      <th>450073</th>\n",
       "      <td>49103</td>\n",
       "      <td>4574</td>\n",
       "      <td>AMAZON FEE</td>\n",
       "      <td>1</td>\n",
       "      <td>2011-10-31 13:23:00</td>\n",
       "      <td>5944.000000</td>\n",
       "      <td>5942.569824</td>\n",
       "      <td>-1</td>\n",
       "      <td>United Kingdom</td>\n",
       "      <td>True</td>\n",
       "      <td>...</td>\n",
       "      <td>5942.569824</td>\n",
       "      <td>1.470746</td>\n",
       "      <td>False</td>\n",
       "      <td>0</td>\n",
       "      <td>1.93891</td>\n",
       "      <td>80.985855</td>\n",
       "      <td>19</td>\n",
       "      <td>20.0</td>\n",
       "      <td>0.800976</td>\n",
       "      <td>False</td>\n",
       "    </tr>\n",
       "  </tbody>\n",
       "</table>\n",
       "<p>20 rows × 21 columns</p>\n",
       "</div>"
      ],
      "text/plain": [
       "        invoice  stock_code                     description  quantity  \\\n",
       "272422    30479        4647  MEDIUM CERAMIC TOP STORAGE JAR     74215   \n",
       "350594    39260        1232                          Manual         1   \n",
       "120439    14000        1232                          Manual         1   \n",
       "263664    29814        4574                      AMAZON FEE         1   \n",
       "263665    29815        4574                      AMAZON FEE         1   \n",
       "251474    28467        4574                      AMAZON FEE         1   \n",
       "496480    53030        4574                      AMAZON FEE         1   \n",
       "68126      7611        1232                          Manual         1   \n",
       "68125      7609        1232                          Manual         1   \n",
       "182549    21421        1232                          Manual         1   \n",
       "167307    19775        1232                          Manual         1   \n",
       "457607    49826        4574                      AMAZON FEE         1   \n",
       "327216    36463          86                         POSTAGE         1   \n",
       "407528    45219        4574                      AMAZON FEE         1   \n",
       "65816      7314        1232                          Manual         1   \n",
       "327235    36477        1232                          Manual         1   \n",
       "251582    28474        4574                      AMAZON FEE         1   \n",
       "369640    41253        4574                      AMAZON FEE         1   \n",
       "428636    47095        4574                      AMAZON FEE         1   \n",
       "450073    49103        4574                      AMAZON FEE         1   \n",
       "\n",
       "              invoice_date    price_unit   price_total  customer_id  \\\n",
       "272422 2011-01-18 10:17:00      1.040039  77183.601562          836   \n",
       "350594 2011-06-10 15:31:00  38976.000000  38970.000000         5040   \n",
       "120439 2010-06-17 16:52:00  25104.000000  25111.089844         2959   \n",
       "263664 2011-01-05 09:55:00  16896.000000  16888.019531           -1   \n",
       "263665 2011-01-05 09:57:00  16448.000000  16453.710938           -1   \n",
       "251474 2010-12-07 15:34:00  13472.000000  13474.790039           -1   \n",
       "496480 2011-12-05 11:35:00  11584.000000  11586.500000           -1   \n",
       "68126  2010-03-23 15:24:00  10952.000000  10953.500000         2100   \n",
       "68125  2010-03-23 15:20:00  10952.000000  10953.500000         2100   \n",
       "182549 2010-10-05 11:47:00  10472.000000  10468.799805          580   \n",
       "167307 2010-09-16 14:53:00  10472.000000  10468.799805          580   \n",
       "457607 2011-11-07 15:21:00   8288.000000   8286.219727           -1   \n",
       "327216 2011-05-03 12:51:00   8144.000000   8142.750000          551   \n",
       "407528 2011-09-15 13:53:00   7428.000000   7427.970215           -1   \n",
       "65816  2010-03-19 11:49:00   6960.000000   6958.169922         2056   \n",
       "327235 2011-05-03 14:12:00   6928.000000   6930.000000          551   \n",
       "251582 2010-12-07 15:51:00   6708.000000   6706.709961           -1   \n",
       "369640 2011-07-13 15:21:00   6496.000000   6497.470215           -1   \n",
       "428636 2011-10-07 10:29:00   5944.000000   5942.569824           -1   \n",
       "450073 2011-10-31 13:23:00   5944.000000   5942.569824           -1   \n",
       "\n",
       "               country  is_canceled  ...  total_return    y_pred  \\\n",
       "272422  United Kingdom         True  ...  77183.601562  1.470746   \n",
       "350594  United Kingdom         True  ...  38970.000000  1.470746   \n",
       "120439  United Kingdom         True  ...  25111.089844  1.470746   \n",
       "263664  United Kingdom         True  ...  16888.019531  1.470746   \n",
       "263665  United Kingdom         True  ...  16453.710938  1.470746   \n",
       "251474  United Kingdom         True  ...  13474.790039  1.470746   \n",
       "496480  United Kingdom         True  ...  11586.500000  1.470746   \n",
       "68126   United Kingdom         True  ...  10953.500000  1.470746   \n",
       "68125   United Kingdom         True  ...  10953.500000  1.470746   \n",
       "182549  United Kingdom         True  ...  10468.799805  1.470746   \n",
       "167307  United Kingdom         True  ...  10468.799805  1.470746   \n",
       "457607  United Kingdom         True  ...   8286.219727  1.470746   \n",
       "327216  United Kingdom         True  ...   8142.750000  1.470746   \n",
       "407528  United Kingdom         True  ...   7427.970215  1.470746   \n",
       "65816           Norway         True  ...   6958.169922  1.470746   \n",
       "327235  United Kingdom         True  ...   6930.000000  1.470746   \n",
       "251582  United Kingdom         True  ...   6706.709961  1.470746   \n",
       "369640  United Kingdom         True  ...   6497.470215  1.470746   \n",
       "428636  United Kingdom         True  ...   5942.569824  1.470746   \n",
       "450073  United Kingdom         True  ...   5942.569824  1.470746   \n",
       "\n",
       "        is_canceled_pred  total_return_pred1  cnt_customer_cancel  \\\n",
       "272422             False                   0                    2   \n",
       "350594             False                   0                    1   \n",
       "120439             False                   0                 True   \n",
       "263664             False                   0              1.93891   \n",
       "263665             False                   0              1.93891   \n",
       "251474             False                   0              1.93891   \n",
       "496480             False                   0              1.93891   \n",
       "68126              False                   0                    2   \n",
       "68125              False                   0                    2   \n",
       "182549             False                   0                    4   \n",
       "167307             False                   0                    4   \n",
       "457607             False                   0              1.93891   \n",
       "327216             False                   0                   28   \n",
       "407528             False                   0              1.93891   \n",
       "65816              False                   0                    2   \n",
       "327235             False                   0                   28   \n",
       "251582             False                   0              1.93891   \n",
       "369640             False                   0              1.93891   \n",
       "428636             False                   0              1.93891   \n",
       "450073             False                   0              1.93891   \n",
       "\n",
       "       cnt_customer_orders  cnt_product_cancel cnt_product_orders  \\\n",
       "272422           32.000000                   4              132.0   \n",
       "350594            2.000000                 257              679.0   \n",
       "120439            1.000000                 257              679.0   \n",
       "263664           80.985855                  19               20.0   \n",
       "263665           80.985855                  19               20.0   \n",
       "251474           80.985855                  19               20.0   \n",
       "496480           80.985855                  19               20.0   \n",
       "68126             2.000000                 257              679.0   \n",
       "68125             2.000000                 257              679.0   \n",
       "182549           24.000000                 257              679.0   \n",
       "167307           24.000000                 257              679.0   \n",
       "457607           80.985855                  19               20.0   \n",
       "327216          218.000000                 117             1066.0   \n",
       "407528           80.985855                  19               20.0   \n",
       "65816             3.000000                 257              679.0   \n",
       "327235          218.000000                 257              679.0   \n",
       "251582           80.985855                  19               20.0   \n",
       "369640           80.985855                  19               20.0   \n",
       "428636           80.985855                  19               20.0   \n",
       "450073           80.985855                  19               20.0   \n",
       "\n",
       "        total_return_proc  big_invoice  \n",
       "272422          10.403274         True  \n",
       "350594           5.252613         True  \n",
       "120439           3.384625         True  \n",
       "263664           2.276270         True  \n",
       "263665           2.217731         True  \n",
       "251474           1.816214         True  \n",
       "496480           1.561699         True  \n",
       "68126            1.476379         True  \n",
       "68125            1.476379         True  \n",
       "182549           1.411048         True  \n",
       "167307           1.411048         True  \n",
       "457607           1.116867         True  \n",
       "327216           1.097529         True  \n",
       "407528           1.001187         True  \n",
       "65816            0.937864        False  \n",
       "327235           0.934067        False  \n",
       "251582           0.903971        False  \n",
       "369640           0.875768        False  \n",
       "428636           0.800976        False  \n",
       "450073           0.800976        False  \n",
       "\n",
       "[20 rows x 21 columns]"
      ]
     },
     "execution_count": 71,
     "metadata": {},
     "output_type": "execute_result"
    }
   ],
   "source": [
    "train.sort_values(by='total_return_proc', ascending=False).head(20)"
   ]
  },
  {
   "cell_type": "markdown",
   "metadata": {},
   "source": [
    "Mamy dwa wnioski spróbujmy wyizolować pierwsze 14 faktur ktróre stanowią wiecej niź 1% zamówień. Oraz możemy przydlągnąć sie opisom \"Manual\" oraz \"AMAZON FEE\""
   ]
  },
  {
   "cell_type": "code",
   "execution_count": 38,
   "metadata": {},
   "outputs": [],
   "source": [
    "lista = train[train['total_return_proc'] > 1 ].invoice.values\n",
    "train['big_invoice']=  train.invoice.map(lambda x: True if x in lista else False )"
   ]
  },
  {
   "cell_type": "code",
   "execution_count": 60,
   "metadata": {},
   "outputs": [],
   "source": [
    "train_small = train[train['big_invoice'] == False ].copy()"
   ]
  },
  {
   "cell_type": "code",
   "execution_count": 64,
   "metadata": {
    "scrolled": true
   },
   "outputs": [
    {
     "name": "stdout",
     "output_type": "stream",
     "text": [
      "['invoice', 'stock_code', 'quantity', 'price_unit', 'price_total', 'customer_id', 'cnt_customer_orders', 'cnt_product_orders']\n",
      "mse:  (244347.34, 43592.26769200957)\n"
     ]
    },
    {
     "data": {
      "image/png": "[encoded data removed]",
      "text/plain": [
       "<Figure size 864x216 with 1 Axes>"
      ]
     },
     "metadata": {
      "needs_background": "light"
     },
     "output_type": "display_data"
    }
   ],
   "source": [
    "model_cls = xgb.XGBClassifier\n",
    "model_params = {'max_depth': 5, 'n_estimators': 100, 'learning_rate': 0.3, 'random_state': 0}\n",
    "xgb_ = run_cv(train_small, model_cls, model_params, return_mse = True)\n",
    "wyniki[8].append(xgb_[0])\n",
    "wyniki[9].append(xgb_[1])"
   ]
  },
  {
   "cell_type": "code",
   "execution_count": 67,
   "metadata": {},
   "outputs": [
    {
     "name": "stdout",
     "output_type": "stream",
     "text": [
      "['invoice', 'stock_code', 'quantity', 'price_unit', 'price_total', 'customer_id']\n",
      "mse:  (226158.38, 44155.275639788044)\n"
     ]
    },
    {
     "data": {
      "image/png": "[encoded data removed]",
      "text/plain": [
       "<Figure size 864x216 with 1 Axes>"
      ]
     },
     "metadata": {
      "needs_background": "light"
     },
     "output_type": "display_data"
    }
   ],
   "source": [
    "model_cls = xgb.XGBClassifier\n",
    "model_params = {'max_depth': 5, 'n_estimators': 100, 'learning_rate': 0.3, 'random_state': 0}\n",
    "xgb_ = run_cv(train_small, model_cls, model_params, return_mse = True)\n",
    "wyniki[6].append(xgb_[0])\n",
    "wyniki[7].append(xgb_[1])"
   ]
  },
  {
   "cell_type": "code",
   "execution_count": 81,
   "metadata": {},
   "outputs": [
    {
     "name": "stdout",
     "output_type": "stream",
     "text": [
      "['invoice', 'stock_code', 'quantity', 'price_unit', 'price_total', 'customer_id']\n",
      "mse:  (55371.14, 45363.776742777736)\n"
     ]
    }
   ],
   "source": [
    "model_cls = RandomForestClassifier\n",
    "model_params = {'n_estimators':50, 'max_depth':5}\n",
    "forest = run_cv(train_small, model_cls, model_params, return_mse = True, is_plot_learning_curve=False)\n",
    "wyniki[4].append(forest[0])\n",
    "wyniki[5].append(forest[1])"
   ]
  },
  {
   "cell_type": "code",
   "execution_count": 83,
   "metadata": {},
   "outputs": [
    {
     "name": "stdout",
     "output_type": "stream",
     "text": [
      "['invoice', 'stock_code', 'quantity', 'price_unit', 'price_total', 'customer_id']\n",
      "mse:  (184609.47, 45405.34411975576)\n"
     ]
    }
   ],
   "source": [
    "model_cls = DecisionTreeClassifier\n",
    "model_params = {'max_depth': 10}\n",
    "tree = run_cv(train_small, model_cls, model_params, return_mse = True,is_plot_learning_curve=False, is_plot_feature_importances=False)\n",
    "wyniki[2].append(tree[0])\n",
    "wyniki[3].append(tree[1])"
   ]
  },
  {
   "cell_type": "code",
   "execution_count": 100,
   "metadata": {},
   "outputs": [
    {
     "data": {
      "text/plain": [
       "<matplotlib.axes._subplots.AxesSubplot at 0x7f88a6cd8bd0>"
      ]
     },
     "execution_count": 100,
     "metadata": {},
     "output_type": "execute_result"
    },
    {
     "data": {
      "image/png": "[encoded data removed]",
      "text/plain": [
       "<Figure size 864x216 with 1 Axes>"
      ]
     },
     "metadata": {
      "needs_background": "light"
     },
     "output_type": "display_data"
    }
   ],
   "source": [
    "df = pd.DataFrame(data=wyniki[2:],columns=['nazwa', 'mse_lokalnie', 'mse_kaggle_private','mse_kaggle_public','mse_kaggle_total','mse_lokal_train_small'])\n",
    "df.plot.bar(x='nazwa' , figsize=(12,3),legend=True)"
   ]
  },
  {
   "cell_type": "markdown",
   "metadata": {},
   "source": [
    "Dzięki tak zredukowanemu zbiorowi nasze lokalane MSE odpowiada temu uzykanemu na Kaggle.Oczywiście to tego MSE należy dodać jeszcze MSE wygenrowane na pozostałym zbiorze train.invoice_big. Następnie możemy ekseprymentować dalej dokładając nowe cechy oraz trenować osobne modele dla drogich i tanich zamówień. "
   ]
  },
  {
   "cell_type": "code",
   "execution_count": 76,
   "metadata": {},
   "outputs": [
    {
     "data": {
      "text/plain": [
       "22069"
      ]
     },
     "execution_count": 76,
     "metadata": {},
     "output_type": "execute_result"
    }
   ],
   "source": [
    "df_all = pd.concat([train, test], sort=False)\n",
    "\n",
    "#release memory\n",
    "del train, test\n",
    "gc.collect()"
   ]
  },
  {
   "cell_type": "code",
   "execution_count": null,
   "metadata": {},
   "outputs": [],
   "source": [
    "df_all['cnt_customer_cancel'] = df_all['customer_id'].map(group_to_dict('customer_id'))\n",
    "df_all['cnt_customer_orders'] = df_all['customer_id'].map(group_to_dict('customer_id', agg_func=np.size))\n",
    "df_all['cnt_product_cancel'] = df_all['stock_code'].map(group_to_dict('stock_code'))\n",
    "df_all['cnt_product_orders'] = df_all['stock_code'].map(group_to_dict('stock_code', agg_func=np.size))\n",
    "\n",
    "df_all['cnt_customer_product_cancel'] = df_all['cnt_customer_product_cancel'].astype(float)\n",
    "df_all['cnt_product_cancel'] = df_all['cnt_product_cancel'].astype(float)\n",
    "\n",
    "df_all['product_rate'] = df_all['cnt_product_cancel']*100/df_all['cnt_product_orders'] \n",
    "df_all['customer_rate'] = df_all['cnt_customer_product_cancel']*100 / df_all['cnt_customer_product_orders'] \n",
    "df_all['year'] = df_all.invoice_date.dt.year\n",
    "df_all['month'] = df_all.invoice_date.dt.month\n",
    "df_all['day'] = df_all.invoice_date.dt.day \n",
    "df_all['hour'] = df_all.invoice_date.dt.hour\n",
    "df_all['day_of_week'] = df_all['invoice_date'].dt.weekday\n",
    "df_all['woorking_day'] = df_all.day_of_week.map(lambda x: 0 if x >4 else 1 )\n",
    "df_all['country_cat'] = pd.factorize(df_all['country'] )[0]\n",
    "df_all['description'] = df_all['description'].astype(str)\n",
    "\n",
    "df_all['customer_rate'] = df_all['customer_rate'].astype(float)\n",
    "df_all['product_rate'] = df_all['product_rate'].astype(float)"
   ]
  },
  {
   "cell_type": "code",
   "execution_count": 51,
   "metadata": {},
   "outputs": [
    {
     "data": {
      "text/plain": [
       "is_canceled\n",
       "False    422\n",
       "True     257\n",
       "dtype: int64"
      ]
     },
     "execution_count": 51,
     "metadata": {},
     "output_type": "execute_result"
    }
   ],
   "source": [
    "train[train['description']== 'Manual'].groupby('is_canceled').size()"
   ]
  },
  {
   "cell_type": "code",
   "execution_count": 52,
   "metadata": {},
   "outputs": [
    {
     "data": {
      "text/plain": [
       "is_canceled\n",
       "False     1\n",
       "True     19\n",
       "dtype: int64"
      ]
     },
     "execution_count": 52,
     "metadata": {},
     "output_type": "execute_result"
    }
   ],
   "source": [
    "train[train['description']== 'AMAZON FEE'].groupby('is_canceled').size()"
   ]
  },
  {
   "cell_type": "code",
   "execution_count": null,
   "metadata": {},
   "outputs": [],
   "source": [
    "df_all['Amazon_of_manual'] == df_all.description.map(lambda x: True if x in ['AMAZON FEE','Manual'] else False)"
   ]
  }
 ],
 "metadata": {
  "kernelspec": {
   "display_name": "Python 3",
   "language": "python",
   "name": "python3"
  },
  "language_info": {
   "codemirror_mode": {
    "name": "ipython",
    "version": 3
   },
   "file_extension": ".py",
   "mimetype": "text/x-python",
   "name": "python",
   "nbconvert_exporter": "python",
   "pygments_lexer": "ipython3",
   "version": "3.7.4"
  }
 },
 "nbformat": 4,
 "nbformat_minor": 2
}
